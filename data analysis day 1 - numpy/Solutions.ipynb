{
 "cells": [
  {
   "cell_type": "code",
   "execution_count": 2,
   "id": "c7957ce6-e6a8-4516-92d8-d191b5b15618",
   "metadata": {},
   "outputs": [
    {
     "data": {
      "text/plain": [
       "array([[723, 802, 814, 534,  50, 981, 595, 459, 626, 914],\n",
       "       [ 70,  28, 684, 189, 948, 474, 904, 865, 697, 783],\n",
       "       [446, 948, 163, 440, 879,  55,  72, 102, 665, 580],\n",
       "       [886, 239, 329, 609, 169, 960, 693, 327, 212, 440],\n",
       "       [558, 665, 491, 555, 548, 644, 833, 434, 859, 677],\n",
       "       [999, 642, 914, 303, 116, 238, 338, 701, 579, 149],\n",
       "       [972,  27, 429, 284, 295, 341, 600, 872, 194,  81],\n",
       "       [401, 837, 123, 151, 972,  98, 230, 725, 225, 924],\n",
       "       [ 49, 813, 203, 682, 476, 396, 162, 362, 331,  45],\n",
       "       [405, 680, 561, 376, 430, 927,  10, 468, 453, 160]], dtype=int32)"
      ]
     },
     "execution_count": 2,
     "metadata": {},
     "output_type": "execute_result"
    }
   ],
   "source": [
    "import numpy as np\n",
    "filedata = np.genfromtxt('random_numbers.txt', delimiter=',').astype('int32')\n",
    "filedata"
   ]
  },
  {
   "cell_type": "code",
   "execution_count": 3,
   "id": "d0c200d5-c66d-4c63-9277-f7baf956a4bc",
   "metadata": {},
   "outputs": [
    {
     "data": {
      "text/plain": [
       "999"
      ]
     },
     "execution_count": 3,
     "metadata": {},
     "output_type": "execute_result"
    }
   ],
   "source": [
    "np.max(filedata)"
   ]
  },
  {
   "cell_type": "code",
   "execution_count": 4,
   "id": "8fc132dd-6fe7-4283-93b1-d62764ef3418",
   "metadata": {},
   "outputs": [
    {
     "data": {
      "text/plain": [
       "10"
      ]
     },
     "execution_count": 4,
     "metadata": {},
     "output_type": "execute_result"
    }
   ],
   "source": [
    "np.min(filedata)"
   ]
  },
  {
   "cell_type": "code",
   "execution_count": 5,
   "id": "2a9f2368-1c43-4cc7-be71-16082ca6f952",
   "metadata": {},
   "outputs": [
    {
     "data": {
      "text/plain": [
       "49367"
      ]
     },
     "execution_count": 5,
     "metadata": {},
     "output_type": "execute_result"
    }
   ],
   "source": [
    "np.sum(filedata)"
   ]
  },
  {
   "cell_type": "code",
   "execution_count": 6,
   "id": "d7c0e6d2-ff06-49d6-aa75-75910d0971d4",
   "metadata": {},
   "outputs": [
    {
     "data": {
      "text/plain": [
       "array([649.8, 564.2, 435. , 486.4, 626.4, 497.9, 409.5, 468.6, 351.9,\n",
       "       447. ])"
      ]
     },
     "execution_count": 6,
     "metadata": {},
     "output_type": "execute_result"
    }
   ],
   "source": [
    "np.mean(filedata, axis=1)"
   ]
  },
  {
   "cell_type": "code",
   "execution_count": 7,
   "id": "c9cc5e75-7f92-4b31-a948-5f748847ec0b",
   "metadata": {},
   "outputs": [
    {
     "data": {
      "text/plain": [
       "981"
      ]
     },
     "execution_count": 7,
     "metadata": {},
     "output_type": "execute_result"
    }
   ],
   "source": [
    "np.max(filedata[0, :])"
   ]
  },
  {
   "cell_type": "code",
   "execution_count": 8,
   "id": "d8c97997-44ae-450f-a968-8d5a79249146",
   "metadata": {},
   "outputs": [
    {
     "data": {
      "text/plain": [
       "array([960, 555, 600, 225,  45, 405], dtype=int32)"
      ]
     },
     "execution_count": 8,
     "metadata": {},
     "output_type": "execute_result"
    }
   ],
   "source": [
    "filedata[(filedata %3==0) & (filedata%5==0)]"
   ]
  },
  {
   "cell_type": "code",
   "execution_count": 9,
   "id": "ea1327eb-cf87-48bb-bfeb-1ee2a270fe0e",
   "metadata": {},
   "outputs": [
    {
     "data": {
      "text/plain": [
       "array([[723, 802, 814, 534,  50, 981, 595, 459, 626, 914]], dtype=int32)"
      ]
     },
     "execution_count": 9,
     "metadata": {},
     "output_type": "execute_result"
    }
   ],
   "source": [
    "filedata[np.sum(filedata,axis=1) == np.max(np.sum(filedata,axis=1))]"
   ]
  },
  {
   "cell_type": "code",
   "execution_count": 10,
   "id": "fdff6d29-a014-458d-be34-255887e1e682",
   "metadata": {},
   "outputs": [
    {
     "data": {
      "text/plain": [
       "array([600], dtype=int32)"
      ]
     },
     "execution_count": 10,
     "metadata": {},
     "output_type": "execute_result"
    }
   ],
   "source": [
    "filedata[np.linalg.inv(filedata) == np.min(np.linalg.inv(filedata))]"
   ]
  },
  {
   "cell_type": "code",
   "execution_count": 11,
   "id": "429c2031-d6c8-4542-926b-f7dab1f24f4d",
   "metadata": {},
   "outputs": [],
   "source": [
    "center_array = filedata[4:6, 4:6]"
   ]
  },
  {
   "cell_type": "code",
   "execution_count": 12,
   "id": "798372b7-c832-4b48-a64b-56dd3ad58174",
   "metadata": {},
   "outputs": [
    {
     "data": {
      "text/plain": [
       "array([[548, 644],\n",
       "       [116, 238]], dtype=int32)"
      ]
     },
     "execution_count": 12,
     "metadata": {},
     "output_type": "execute_result"
    }
   ],
   "source": [
    "center_array"
   ]
  },
  {
   "cell_type": "code",
   "execution_count": null,
   "id": "25ab9330-8e22-41e7-9b7e-7158dd0dd186",
   "metadata": {},
   "outputs": [],
   "source": []
  }
 ],
 "metadata": {
  "kernelspec": {
   "display_name": "Python 3 (ipykernel)",
   "language": "python",
   "name": "python3"
  },
  "language_info": {
   "codemirror_mode": {
    "name": "ipython",
    "version": 3
   },
   "file_extension": ".py",
   "mimetype": "text/x-python",
   "name": "python",
   "nbconvert_exporter": "python",
   "pygments_lexer": "ipython3",
   "version": "3.10.12"
  }
 },
 "nbformat": 4,
 "nbformat_minor": 5
}
