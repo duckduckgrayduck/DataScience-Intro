{
 "cells": [
  {
   "cell_type": "markdown",
   "id": "80918706-fa36-4c01-8fca-5eb023d49d10",
   "metadata": {},
   "source": [
    "# Automation: Sending Pre-Canned Emails\n",
    "A common thing we will want to automate in our day to day operations is the ability to send emails in an automated fashion. \n",
    "Say we are keeping track of appointments for our clinic and want to send our patient's reminder emails, or we are reminding members of our subscription service of a sale. \n",
    "\n",
    "Some email providers, including Gmail, don't allow us to send raw emails via [SMTP](https://en.wikipedia.org/wiki/Simple_Mail_Transfer_Protocol) anymore, forcing us to use their API to send emails, or setting an application password. \n",
    "\n",
    "If you are working in an industry, chances are very likely they will not use their own email (SMTP) server to send emails anymore, but instead use a proxy to manage emails and check click-through rate. Popular services like [SendGrid](https://sendgrid.com/en-us), [Mailchimp](https://mailchimp.com/), and [Mailgun](https://mailgun.com) exist. \n",
    "\n",
    "For our purposes, we will be using a service provider like this that offers automated email via SMTP, but that offers a free tier - [SMTP2Go](https://www.smtp2go.com/). In the login portion of our script, we will log into their SMTP server with the credentials  we set up, but the email will come from our [verified sender](https://support.smtp2go.com/hc/en-gb/articles/115004408567-Verified-Senders). \n",
    "\n",
    "If we had our own SMTP server, we would just log into it and send emails from that of course and avoid using the middle man. \n",
    "\n",
    "In my example, I've set up SMTP2Go to send emails through my work email- sanjin@muckrock.com"
   ]
  },
  {
   "cell_type": "markdown",
   "id": "3149e5fa-d14c-49db-b835-b18e645a32af",
   "metadata": {},
   "source": [
    "### Creating an account on SMTP2Go\n",
    "Sign up for free: https://www.smtp2go.com/pricing/"
   ]
  },
  {
   "cell_type": "markdown",
   "id": "6c3bbef3-c41a-457d-b091-3506cd37d569",
   "metadata": {},
   "source": [
    "### Set a verified sender\n",
    "To get started sending emails, you will need to setup a verified sender. For our demonstration purposes, we will use <b> single sender email address </b>. In the industry, we will likely set an entire domain up to be managed through something like Mailgun. Or, if we keep a newsletter or something we would use Mailchimp to manage the emails and connect our domain."
   ]
  },
  {
   "cell_type": "markdown",
   "id": "e36925b1-2ccd-42b3-86e8-4031c15a081a",
   "metadata": {},
   "source": [
    "### Set our Environment variables\n",
    "Similar to our scheduling example, we will want to set environment variables for our <b> username and password </b> to the SMTP2Go service so that it isn't exposed publicly in our code. You can have your email exposed publicly, but I choose not to and have a separate environment variable <b> VERIFIED_SENDER </b> which is the actual email address I'm sending emails from. "
   ]
  },
  {
   "cell_type": "markdown",
   "id": "73678ffe-02b9-40d2-8004-c9171ffc4d4b",
   "metadata": {},
   "source": [
    "### Imports"
   ]
  },
  {
   "cell_type": "code",
   "execution_count": 1,
   "id": "1149e28b-18e7-4466-af38-80239fe0a0d6",
   "metadata": {},
   "outputs": [],
   "source": [
    "import csv\n",
    "import os\n",
    "import smtplib\n",
    "from email.mime.text import MIMEText\n",
    "from email.mime.multipart import MIMEMultipart"
   ]
  },
  {
   "cell_type": "markdown",
   "id": "c2e5ae2e-4282-4e12-8bbe-dd923f6075b7",
   "metadata": {},
   "source": [
    "### Define our send_email method\n",
    "\n",
    "Usually for emails we use a MIME type of plain/text, unless the email needs HTML formatting- in which case we would use html. If we have some fancy formatting in our emails, we would use this. \n",
    "\n",
    "Note: \n",
    "Scammers will imitate the style/formatting (HTML source code), and content of a real email to make it look like it comes from the original source. Just because an email looks like it comes from your bank, doesn't mean it is. Just like we can make an email say whatever we want, so can a hacker. I'll show you how to dive a little deeper into the origin. Securing email is a whole industry, in itself, too."
   ]
  },
  {
   "cell_type": "code",
   "execution_count": 5,
   "id": "185f60a7-f365-4552-b83a-5e7e2da6c0e5",
   "metadata": {},
   "outputs": [],
   "source": [
    "def send_email(to_email, subject, body):\n",
    "    username = os.environ.get('SMTP_USER')\n",
    "    sender_password = os.environ.get('SMTP_PASSWORD')\n",
    "    sender = os.environ.get('VERIFIED_SENDER')\n",
    "\n",
    "    # Email setup\n",
    "    msg = MIMEMultipart()\n",
    "    msg['From'] = 'sanjin@muckrock.com'\n",
    "    msg['To'] = to_email\n",
    "    msg['Subject'] = subject\n",
    "    msg.attach(MIMEText(body, 'plain'))\n",
    "\n",
    "    # Connect to the SMTP server\n",
    "    with smtplib.SMTP('mail.smtp2go.com', 2525) as server:\n",
    "        server.ehlo() # Performs a handshake with our SMTP server. \n",
    "        server.starttls() # Starts a secure HTTPS connection with the server. \n",
    "        server.ehlo() # Performs one more handshake. \n",
    "        server.login(username, sender_password)  # Logs into the server for us. \n",
    "\n",
    "        # Send email\n",
    "        server.sendmail(sender, to_email, msg.as_string())  # Sends the email for us. "
   ]
  },
  {
   "cell_type": "markdown",
   "id": "e37962ac-52cb-4a66-873e-710ffb411b35",
   "metadata": {},
   "source": [
    "### Define our send_reminder_emails() method"
   ]
  },
  {
   "cell_type": "code",
   "execution_count": 6,
   "id": "aaf63fb4-f84c-4c6d-b524-91b3dacbda14",
   "metadata": {},
   "outputs": [],
   "source": [
    "def send_reminder_emails():\n",
    "    # Read recipient data from CSV file\n",
    "    with open('recipient_data.csv', 'r') as file:\n",
    "        reader = csv.DictReader(file)\n",
    "        for row in reader:\n",
    "            to_email = row['Email']\n",
    "            subject = 'Reminder: Your Upcoming Event'\n",
    "            body = f\"Dear {row['Name']},\\n\\nThis is a reminder for your upcoming event on {row['Event Date']}.\\n\\nBest regards,\\nYour Organization\"\n",
    "\n",
    "            # Send email\n",
    "            send_email(to_email, subject, body)\n",
    "            print(f\"Reminder sent to {to_email}\")"
   ]
  },
  {
   "cell_type": "markdown",
   "id": "4599eaed-4d3b-4bef-b9bc-788e1c4571ae",
   "metadata": {},
   "source": [
    "### Create our source CSV\n",
    "We will want to form our sample CSV at this point. It has three columns in this example email: Email, Name, and Event Date. We could always modify this for our own uses. In a real sysadmin environment, we would pull this information from our contact/appointment database, CRM system, etc.  "
   ]
  },
  {
   "cell_type": "code",
   "execution_count": null,
   "id": "f2663866-2456-40b9-aa0d-c9d4682ae062",
   "metadata": {},
   "outputs": [],
   "source": []
  }
 ],
 "metadata": {
  "kernelspec": {
   "display_name": "Python 3 (ipykernel)",
   "language": "python",
   "name": "python3"
  },
  "language_info": {
   "codemirror_mode": {
    "name": "ipython",
    "version": 3
   },
   "file_extension": ".py",
   "mimetype": "text/x-python",
   "name": "python",
   "nbconvert_exporter": "python",
   "pygments_lexer": "ipython3",
   "version": "3.10.12"
  }
 },
 "nbformat": 4,
 "nbformat_minor": 5
}
