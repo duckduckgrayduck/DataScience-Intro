{
 "cells": [
  {
   "cell_type": "markdown",
   "id": "c0b1e692-fa61-4e3e-bfd4-6461f80df9e0",
   "metadata": {},
   "source": [
    "# Automation\n",
    "\n",
    "In the next two class sessions we will be talking about automation. A lot falls under that word- including web scraping and GUI interaction (forms & prompts especially) which we have already covered a bit, but for the sake of brevity this is what we will be covering in these two sessions:\n",
    "* Scheduling\n",
    "* The use of APIs\n",
    "* Sending pre-canned emails\n",
    "* File system management\n",
    "* System administration tasks"
   ]
  },
  {
   "cell_type": "markdown",
   "id": "2115f3b9-4886-4882-a0f3-b3f7888c9f7e",
   "metadata": {},
   "source": [
    "First, we will work on scheduling a program to run a certain operation every day at a certain time, and running the script as a background process so that it can do so. "
   ]
  },
  {
   "cell_type": "markdown",
   "id": "ccc5e092-e9b8-4175-b2d9-79039ee45aef",
   "metadata": {},
   "source": [
    "We will be building a rudimentary weather tracker in Python that gets the temperature and forecast for the day every day at a certain time. "
   ]
  },
  {
   "cell_type": "markdown",
   "id": "d4a9fcdf-5997-4bbb-b802-a82f31d9a08a",
   "metadata": {},
   "source": [
    "### Installing requirements\n",
    "We have some pre-requisites. We will want to run `pip install schedule requests` to make sure we have access to what we need in Python. "
   ]
  },
  {
   "cell_type": "markdown",
   "id": "3dd27f2b-9cba-4db4-9c1a-c1d08e1182f1",
   "metadata": {},
   "source": [
    "### Get an API Key\n",
    "You can register for an OpenWeatherMap account here: https://home.openweathermap.org/users/sign_up\n",
    "Once you sign up you can sign up for a free tier. The API key will appear under https://home.openweathermap.org/api_keys after you have registered. The first 1,000 calls a day is free. You can make sure that you don't go over 1,000 a day by setting a quota on your account in your subscriptions: https://home.openweathermap.org/subscriptions\n",
    "By default, the limit is 2,000 calls. $.0012/call * 1,000 calls (above the 1,000 free) is 1.2GBP per day if you don't change the limit and somehow hit the limit. Our script only calls once a day, so you won't. You can always end the subscription, or set the limit to 1,000 to never go over the free limit.\n",
    "\n",
    "For the sake of this class, I will share my API key with you all, since I have it limited. The key will be destroyed tomorrow. "
   ]
  },
  {
   "cell_type": "markdown",
   "id": "b623b1a7-bb19-4939-be40-0b83c07f1b7c",
   "metadata": {},
   "source": [
    "### Store the API Key as an environment variable\n",
    "Note: It is important to <b> NEVER leave your API keys exposed in your code </b> if you publish the code anywhere on the internet, like GitHub. People have built scrapers for GitHub where they search for exposed API keys in particular and abuse your account. If you set your limit to 1,000, you won't be charged even if the key does get published, but it is still poor practice and why let someone use the resource you registered for? "
   ]
  },
  {
   "cell_type": "markdown",
   "id": "c44276fb-d11f-4ff9-8781-1857b195ce79",
   "metadata": {},
   "source": [
    "How do we get around this? We store our API key as an environment variable in our local operating system. This is easy to do and much more secure. Let's call our API key API_KEY for consistency (environment variables are traditionally all capitalized like this, as they are constants). There are instructions on how to set an environment variable in [Windows](https://learn.microsoft.com/en-us/windows-server/administration/windows-commands/set_1), [Linux](https://www.freecodecamp.org/news/how-to-set-an-environment-variable-in-linux/), and [Mac OS X](https://youngstone89.medium.com/setting-up-environment-variables-in-mac-os-28e5941c771c)"
   ]
  },
  {
   "cell_type": "markdown",
   "id": "47b39c28-c8b3-4b6d-9c65-6834061e114b",
   "metadata": {},
   "source": [
    "If you eventually wanted to run something like this script in GitHub actions (and schedule via a workflow file instead), you can add [secrets](https://docs.github.com/en/actions/security-guides/using-secrets-in-github-actions) within your repository. They act the same way. The code used to do the work is public, but the API keys are not. "
   ]
  },
  {
   "cell_type": "markdown",
   "id": "877256c2-196d-4e7a-8161-959bd91e683d",
   "metadata": {},
   "source": [
    "### Imports"
   ]
  },
  {
   "cell_type": "code",
   "execution_count": 3,
   "id": "3a3283c4-3967-45e9-b761-dd9b8eeeffae",
   "metadata": {},
   "outputs": [],
   "source": [
    "import time\n",
    "import requests\n",
    "import os\n",
    "import json\n",
    "from datetime import datetime\n",
    "import schedule"
   ]
  },
  {
   "cell_type": "markdown",
   "id": "513c18bb-c5dc-4adf-a698-89ed66688e1b",
   "metadata": {},
   "source": [
    "### Fetch Weather Method"
   ]
  },
  {
   "cell_type": "code",
   "execution_count": 4,
   "id": "2507420b-ce07-4465-8507-f32cef052e44",
   "metadata": {},
   "outputs": [],
   "source": [
    "def fetch_weather():\n",
    "    api_key = os.environ.get('WEATHER_KEY')\n",
    "    city = 'Sarajevo'\n",
    "    country_code = 'BA'\n",
    "\n",
    "    # API request URL with units=metric for Celsius\n",
    "    api_url = f'http://api.openweathermap.org/data/2.5/weather?q={city},{country_code}&appid={api_key}&units=metric'\n",
    "\n",
    "    # Sending request to the API\n",
    "    response = requests.get(api_url)\n",
    "\n",
    "    if response.status_code == 200:\n",
    "        weather_data = response.json()\n",
    "\n",
    "        # Extracting relevant information (e.g., temperature, description)\n",
    "        temperature = weather_data['main']['temp']\n",
    "        description = weather_data['weather'][0]['description']\n",
    "\n",
    "        # Storing data in a file with timestamp\n",
    "        timestamp = datetime.now().strftime('%Y-%m-%d %H:%M:%S')\n",
    "        with open('weather_log.txt', 'a') as file:\n",
    "            file.write(f'{timestamp} - Temperature: {temperature}°C, Description: {description}\\n')\n",
    "    else:\n",
    "        print(f\"Failed to fetch weather data. Status Code: {response.status_code}\")"
   ]
  },
  {
   "cell_type": "markdown",
   "id": "46049017-5df2-4717-86d0-c23720162f48",
   "metadata": {},
   "source": [
    "### Schedule the weather fetch"
   ]
  },
  {
   "cell_type": "code",
   "execution_count": 5,
   "id": "6db166d5-fba7-4e12-9ac7-7339194510ef",
   "metadata": {},
   "outputs": [
    {
     "data": {
      "text/plain": [
       "Every 1 day at 19:20:00 do fetch_weather() (last run: [never], next run: 2023-12-05 19:20:00)"
      ]
     },
     "execution_count": 5,
     "metadata": {},
     "output_type": "execute_result"
    }
   ],
   "source": [
    "# Schedule the job to run every day at 19:20\n",
    "schedule.every().day.at(\"19:20\").do(fetch_weather)"
   ]
  },
  {
   "cell_type": "markdown",
   "id": "a3435a11-0a4e-47a1-8fd2-ed0719806f1c",
   "metadata": {},
   "source": [
    "### Run the Scheduler\n",
    "\n",
    "You won't want to do this in the Jupyter notebook generally, this is just here to breakdown the code. I'll show you how to run the entire script as a [background process](https://www.howtogeek.com/440848/how-to-run-and-control-background-processes-on-linux/). \n",
    "This works a bit different in Windows and I haven't tried this as I don't have a Windows machine, so please let me know [if it works](https://stackoverflow.com/questions/32808730/running-python-script-as-a-windows-background-process). "
   ]
  },
  {
   "cell_type": "code",
   "execution_count": null,
   "id": "b8695d3f-f0d0-47a4-a1b1-cbbe58876837",
   "metadata": {},
   "outputs": [],
   "source": [
    "# Run the scheduler\n",
    "while True:\n",
    "    schedule.run_pending()\n",
    "    time.sleep(1)"
   ]
  }
 ],
 "metadata": {
  "kernelspec": {
   "display_name": "Python 3 (ipykernel)",
   "language": "python",
   "name": "python3"
  },
  "language_info": {
   "codemirror_mode": {
    "name": "ipython",
    "version": 3
   },
   "file_extension": ".py",
   "mimetype": "text/x-python",
   "name": "python",
   "nbconvert_exporter": "python",
   "pygments_lexer": "ipython3",
   "version": "3.10.12"
  }
 },
 "nbformat": 4,
 "nbformat_minor": 5
}
