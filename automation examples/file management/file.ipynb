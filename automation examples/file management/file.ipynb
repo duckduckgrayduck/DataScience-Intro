{
 "cells": [
  {
   "cell_type": "markdown",
   "id": "1bf6ac9d-d42c-46e5-baaf-a0a062a6f520",
   "metadata": {},
   "source": [
    "# Automation: File Management\n",
    "\n",
    "A common use case for automation in the sysadmin and general IT world is for file management purposes. You may have written a [powershell](https://learn.microsoft.com/en-us/powershell/) or [bash](https://www.codecademy.com/learn/bash-scripting) script in the past to do something similar. You can do these in Python as well natively. The nice things about keeping it in Python is that you can keep it connected to other parts of your subsystem (imagine that you are managing a Django web application for example, where almost everything is written in Python) and that you can make the script <b> OS agnostic </b>."
   ]
  },
  {
   "cell_type": "markdown",
   "id": "b003f47c-2156-481a-9a8d-f6b0db1c4059",
   "metadata": {},
   "source": [
    "### Imports"
   ]
  },
  {
   "cell_type": "code",
   "execution_count": 1,
   "id": "07ba39c1-8aa2-494e-87db-d23879898e80",
   "metadata": {},
   "outputs": [],
   "source": [
    "import os\n",
    "import shutil\n",
    "from datetime import datetime\n",
    "import argparse"
   ]
  },
  {
   "cell_type": "markdown",
   "id": "637d1d82-7c34-4167-83e0-b440be25e37e",
   "metadata": {},
   "source": [
    "### Define organize_files()"
   ]
  },
  {
   "cell_type": "code",
   "execution_count": 2,
   "id": "919d6396-73c1-4499-b0ed-7e2743c774a0",
   "metadata": {},
   "outputs": [],
   "source": [
    "def organize_files(source_directory):\n",
    "    # List all files in the source directory\n",
    "    files = [f for f in os.listdir(source_directory) if os.path.isfile(os.path.join(source_directory, f))]\n",
    "\n",
    "    for file_name in files:\n",
    "        file_path = os.path.join(source_directory, file_name)\n",
    "\n",
    "        # Get file modified timestamp\n",
    "        creation_timestamp = os.path.getmtime(file_path)\n",
    "\n",
    "        # Convert timestamp to datetime object\n",
    "        creation_date = datetime.utcfromtimestamp(creation_timestamp).date()\n",
    "\n",
    "        # Create subfolder based on creation date\n",
    "        subfolder = os.path.join(source_directory, str(creation_date))\n",
    "        os.makedirs(subfolder, exist_ok=True)\n",
    "\n",
    "        # Move the file to the subfolder\n",
    "        destination_path = os.path.join(subfolder, file_name)\n",
    "        shutil.move(file_path, destination_path)\n",
    "\n",
    "        print(f\"Moved {file_name} to {subfolder}\")"
   ]
  },
  {
   "cell_type": "markdown",
   "id": "3b16c84a-3a14-47df-94bc-f4f7d69aa13d",
   "metadata": {},
   "source": [
    "### Define main() and add an argument to specify the folder you want to run the sorter on "
   ]
  },
  {
   "cell_type": "code",
   "execution_count": 3,
   "id": "87361b8e-862e-4d8a-9f1b-0ce9ca84c414",
   "metadata": {},
   "outputs": [],
   "source": [
    "def main():\n",
    "    parser = argparse.ArgumentParser(description='Organize files based on modification date.')\n",
    "    parser.add_argument('source_directory', type=str, help='Path to the source directory')\n",
    "\n",
    "    args = parser.parse_args()\n",
    "    source_directory = args.source_directory\n",
    "\n",
    "    organize_files(source_directory)"
   ]
  },
  {
   "cell_type": "markdown",
   "id": "5683964f-81e0-43d0-8747-0982622a71a1",
   "metadata": {},
   "source": [
    "### Let it run as a script. "
   ]
  },
  {
   "cell_type": "markdown",
   "id": "5f2a291f-7fbe-4556-a829-14e9d128bd77",
   "metadata": {},
   "source": [
    "if __name__ == \"__main__\":\n",
    "    main()"
   ]
  }
 ],
 "metadata": {
  "kernelspec": {
   "display_name": "Python 3 (ipykernel)",
   "language": "python",
   "name": "python3"
  },
  "language_info": {
   "codemirror_mode": {
    "name": "ipython",
    "version": 3
   },
   "file_extension": ".py",
   "mimetype": "text/x-python",
   "name": "python",
   "nbconvert_exporter": "python",
   "pygments_lexer": "ipython3",
   "version": "3.10.12"
  }
 },
 "nbformat": 4,
 "nbformat_minor": 5
}
